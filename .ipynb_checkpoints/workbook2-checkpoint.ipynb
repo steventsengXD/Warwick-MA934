{
 "cells": [
  {
   "cell_type": "markdown",
   "metadata": {
    "deletable": true,
    "editable": true
   },
   "source": [
    "# MA934  Numerical Methods - Workbook 2"
   ]
  },
  {
   "cell_type": "code",
   "execution_count": null,
   "metadata": {
    "collapsed": true,
    "deletable": true,
    "editable": true
   },
   "outputs": [],
   "source": [
    "using PyPlot\n",
    "using Distributions\n",
    "include(\"kvpair.jl\")\n",
    "include(\"llist.jl\")\n",
    "include(\"ftree.jl\");"
   ]
  },
  {
   "cell_type": "code",
   "execution_count": null,
   "metadata": {
    "collapsed": false,
    "deletable": true,
    "editable": true
   },
   "outputs": [],
   "source": [
    "include(\"functions2.jl\");"
   ]
  },
  {
   "cell_type": "markdown",
   "metadata": {
    "deletable": true,
    "editable": true
   },
   "source": [
    "## Question 1: Linear search using a linked list\n",
    "\n",
    "**1.1)** Write a recursive function that traverses the list and prints out the key-value pairs stored in it. Check that your function works."
   ]
  },
  {
   "cell_type": "code",
   "execution_count": null,
   "metadata": {
    "collapsed": false,
    "deletable": true,
    "editable": true
   },
   "outputs": [],
   "source": [
    "# Creating an LList\n",
    "\n",
    "x=rand(5);\n",
    "\n",
    "values=Array{KVPair}(5)\n",
    "for i=1:5\n",
    "    values[i]=KVPair(i,x[i])\n",
    "end\n",
    "\n",
    "L=Nullable{LList}()\n",
    "L=buildLList(values)\n",
    "\n",
    "println(\"L is an LLIst:\\n\\n\",L)"
   ]
  },
  {
   "cell_type": "code",
   "execution_count": null,
   "metadata": {
    "collapsed": false,
    "deletable": true,
    "editable": true
   },
   "outputs": [],
   "source": [
    "# Confirming that the traverse function works and prints out the key-value pairs of a list\n",
    "traverse(L) "
   ]
  },
  {
   "cell_type": "markdown",
   "metadata": {
    "deletable": true,
    "editable": true
   },
   "source": [
    "**1.2)** Write a function search(list::Nullable{LList}, k::Int64) that searches an LList for the key k and returns the corresponding KVPair if it is present and a Nullable{KVPair} otherwise. Verify that your function works."
   ]
  },
  {
   "cell_type": "code",
   "execution_count": null,
   "metadata": {
    "collapsed": false,
    "deletable": true,
    "editable": true
   },
   "outputs": [],
   "source": [
    "print(\"The corresponding KVPair for key 5 in LList L is: \", Lsearch(L,5),\".\\n\\n\")\n",
    "print(\"The corresponding KVPair for key 10 in LList L is: \", Lsearch(L,10),\". It is a Nullable{KVPair} as key 10 is not present in L.\")"
   ]
  },
  {
   "cell_type": "markdown",
   "metadata": {
    "deletable": true,
    "editable": true
   },
   "source": [
    "**1.3)** Use Julia's @timed macro to measure how the typical computational cost of your search() function grows with the length of the list. "
   ]
  },
  {
   "cell_type": "code",
   "execution_count": null,
   "metadata": {
    "collapsed": false,
    "deletable": true,
    "editable": true
   },
   "outputs": [],
   "source": [
    "# Loop creates llists of size n=2^i for i=1:15 and then searches for a key that returns a Nullable{KVPair}.\n",
    "# The search times are stored in the time_actual array.\n",
    "\n",
    "time_lsearch=zeros(15)\n",
    "\n",
    "for i=1:15\n",
    "    n=2^i\n",
    "    srand(1234)\n",
    "    x=rand(n)\n",
    "    values=Array{KVPair}(n)\n",
    "    for j=1:n\n",
    "        values[j]=KVPair(j,x[j])\n",
    "    end\n",
    "    L=Nullable{LList}()\n",
    "    L=buildLList(values)\n",
    "    k=n+1\n",
    "    t=@timed Lsearch(L,k)\n",
    "    time_lsearch[i]=t[2]\n",
    "end\n",
    ";"
   ]
  },
  {
   "cell_type": "code",
   "execution_count": null,
   "metadata": {
    "collapsed": false,
    "deletable": true,
    "editable": true,
    "scrolled": false
   },
   "outputs": [],
   "source": [
    "fig,ax=PyPlot.subplots(1,1)\n",
    "txt=\"Figure 1. As the length, \"L\"$n$\"\", of the linked list is increased, the increase in the execution\\ntime of the Lsearch function appears to be linear.\"\n",
    "fig[:text](0,-0.06,txt,fontsize=12)\n",
    "title(\"Figure 1: Lsearch function computational cost\",fontsize=12,loc=\"left\")\n",
    "grid(\"on\")\n",
    "ax[:set_xlabel](L\"array length ($n$)\", fontsize=12)\n",
    "ax[:set_ylabel](L\"time $(s)$\", fontsize=12)\n",
    "x=linspace(1,15,15)\n",
    "x2=(2.0).^x\n",
    "plot(x2,time_lsearch,lw=2,label=\"Actual\")\n",
    "ylim(0,0.0012);"
   ]
  },
  {
   "cell_type": "markdown",
   "metadata": {},
   "source": [
    "<font color=blue>\n",
    "This doesn't look very linear - it would be better on a log-log plot since I expect most of your data points are in the bottom left corner. It would also help to plot the numerical data points as well as the lines joining them. Also, you should plot the theoretically expected result too for comparison.\n",
    "</font>"
   ]
  },
  {
   "cell_type": "markdown",
   "metadata": {},
   "source": [
    "<font color=blue>\n",
    "13/15\n",
    "</font>"
   ]
  },
  {
   "cell_type": "markdown",
   "metadata": {
    "deletable": true,
    "editable": true
   },
   "source": [
    "## Question 2: Interval membership\n",
    "\n",
    "\n",
    "**2.1)** Use Julia's random number generator to generate $n$ random interval lengths, $y_1, y_2, \\ldots, y_n$ between 0 and 1 as shown: "
   ]
  },
  {
   "cell_type": "code",
   "execution_count": null,
   "metadata": {
    "collapsed": false,
    "deletable": true,
    "editable": true
   },
   "outputs": [],
   "source": [
    "# Set number of intervals\n",
    "n=10\n",
    "\n",
    "# Seed for random number generator. \n",
    "# You should choose your own seed so that everyone does not end up with the same random sequences\n",
    "seed = 1111 \n",
    "\n",
    "# Initialise the random number generator\n",
    "rng = MersenneTwister(seed)\n",
    "\n",
    "# Generate a sample of n uniform random numbers in the interval [0,1]\n",
    "X = rand(rng, n) \n",
    "print(\"10 random interval lengths are: \", X)"
   ]
  },
  {
   "cell_type": "markdown",
   "metadata": {
    "deletable": true,
    "editable": true
   },
   "source": [
    "Using the objects defined in KVPair.jl and LList.jl, create an array of key-value pairs, $(i, x_i)$, associating each interval with the corresponding partial sum and store this array in a linked list. Print the list for a small value of $n$to verify that it works."
   ]
  },
  {
   "cell_type": "code",
   "execution_count": null,
   "metadata": {
    "collapsed": false,
    "deletable": true,
    "editable": true
   },
   "outputs": [],
   "source": [
    "# Using the llistpartialsum function to create the linked list \n",
    "L,lenth=llistpartialsum(10,1111)\n",
    "\n",
    "print(\"L is an llist of 10 KVPairs that associate each interval with the corresponding partial sum:\\n\\n\",L)"
   ]
  },
  {
   "cell_type": "markdown",
   "metadata": {
    "deletable": true,
    "editable": true
   },
   "source": [
    "**2.2)** Modify the search function you wrote above to write a recursive function that takes the LList containing the list of partial sums and a random Float64 in the range $[0, x_n]$ as inputs and returns the KVPair corresponding to the interval in which $x$ lies. Verify that it works for small values of $n$ and use Julia's @timed macro to measure how the typical computational cost grows with $n$. \n",
    "\n",
    "The recursive search function I wrote is called: **intervalmembership()**."
   ]
  },
  {
   "cell_type": "code",
   "execution_count": null,
   "metadata": {
    "collapsed": false,
    "deletable": true,
    "editable": true
   },
   "outputs": [],
   "source": [
    "# Verifying intervalmembership function works for n=10\n",
    "\n",
    "L,lenth=llistpartialsum(10,1111)\n",
    "k=rand(Uniform(0,lenth))\n",
    "print(\"A random float64 in the range [0,\",lenth,\"] is \",k,\", and the KVPair corresponding to the interval in which it lies is: \",intervalmembership(L,k),\".\")"
   ]
  },
  {
   "cell_type": "code",
   "execution_count": null,
   "metadata": {
    "collapsed": false,
    "deletable": true,
    "editable": true
   },
   "outputs": [],
   "source": [
    "# Measuring the search speed of the interval membership function\n",
    "\n",
    "seed=1111\n",
    "time_linear=zeros(15)\n",
    "\n",
    "for i=1:15\n",
    "    n=2^i\n",
    "    L,x=llistpartialsum(n,seed)\n",
    "    t=@timed intervalmembership(L,x)\n",
    "    time_linear[i]=t[2]\n",
    "end    "
   ]
  },
  {
   "cell_type": "code",
   "execution_count": null,
   "metadata": {
    "collapsed": false,
    "deletable": true,
    "editable": true
   },
   "outputs": [],
   "source": [
    "fig,ax=PyPlot.subplots(1,1)\n",
    "txt=\"Figure 2. As the length, \"L\"$n$\"\", of the linked list is increased, the increase in the execution\n",
    "time of the intervalmemberhsip function appears to be linear.\"\n",
    "fig[:text](0,-0.06,txt,fontsize=12)\n",
    "title(\"Figure 2: Intervalmembership function computational cost\",fontsize=12,loc=\"left\");\n",
    "grid(\"on\")\n",
    "ax[:set_xlabel](L\"array length ($n$)\",fontsize=15) \n",
    "ax[:set_ylabel](L\"time $(s)$\", fontsize=15);\n",
    "x=linspace(1,15,15)\n",
    "x2=(2.0).^x\n",
    "plot(x2,time_linear);"
   ]
  },
  {
   "cell_type": "markdown",
   "metadata": {},
   "source": [
    "<font color=blue>\n",
    "Similar comments for this plot.\n",
    "</font>"
   ]
  },
  {
   "cell_type": "markdown",
   "metadata": {
    "deletable": true,
    "editable": true
   },
   "source": [
    "**2.3)** Write a recursive function that takes the FTree containing the list of partial sums and a random Float64 in the range $[0, x_n]$ as \n",
    "inputs and returns the KVPair corresponding to the interval in which $x$ lies. Verify that it works for small values of $n$ and use Julia's @timed macro to compare how the typical computational compares to the above linear search version. Note it can sometimes be difficult to directly measure $O(\\log\\, n)$ growth in computation time since the problem size needs to become very large to register appreciable run times.\n",
    "\n",
    "The recursive function I wrote is called: **treesearch()**."
   ]
  },
  {
   "cell_type": "code",
   "execution_count": null,
   "metadata": {
    "collapsed": false,
    "deletable": true,
    "editable": true
   },
   "outputs": [],
   "source": [
    "n=5\n",
    "seed=1111\n",
    "rng=MersenneTwister(seed)\n",
    "X=rand(rng,n)\n",
    "# Now calculate the array of partial sums\n",
    "values = Array{KVPair}(n)\n",
    "xs=zeros(n,2)\n",
    "for i=1:n\n",
    "    x=sum(X[1:i])\n",
    "    xs[i,1]=i\n",
    "    xs[i,2]=x\n",
    "    values[i]=KVPair(i,X[i])\n",
    "end\n",
    "T=Nullable{FTree}(FTree(KVPair(0,0.0)))\n",
    "T=buildFTree(T,values);"
   ]
  },
  {
   "cell_type": "code",
   "execution_count": null,
   "metadata": {
    "collapsed": false,
    "deletable": true,
    "editable": true
   },
   "outputs": [],
   "source": [
    "k=rand(Uniform(0,sum(X)))\n",
    "print(\"A random number contained within the entire intervals is, \",k\n",
    "    ,\", and the corresponding KVPair\\nfound using the treesearch function is: \",treesearch(T,k),\".\")"
   ]
  },
  {
   "cell_type": "code",
   "execution_count": null,
   "metadata": {
    "collapsed": false,
    "deletable": true,
    "editable": true
   },
   "outputs": [],
   "source": [
    "N=20\n",
    "seed=1111\n",
    "rng=MersenneTwister(seed)\n",
    "time_actual=zeros(N)\n",
    "time_theory=zeros(N)\n",
    "\n",
    "for i=1:N\n",
    "    n=2^i\n",
    "    values=Array{KVPair}(n)\n",
    "    X=rand(rng,n)\n",
    "    for j in 1:n\n",
    "        values[j]=KVPair(j,X[j])\n",
    "    end\n",
    "    T=Nullable{FTree}(FTree(KVPair(0,0.0)))\n",
    "    T=buildFTree(T,values)\n",
    "    k=sum(X)\n",
    "    t=@timed treesearch(T,k)\n",
    "    time_actual[i]=t[2]\n",
    "    #time_theory[i]=log(n)*time_actual[1]\n",
    "end    "
   ]
  },
  {
   "cell_type": "code",
   "execution_count": null,
   "metadata": {
    "collapsed": false
   },
   "outputs": [],
   "source": [
    "fig,ax=PyPlot.subplots(1,1)\n",
    "txt=\"Figure 3. As the size, \"L\"$n$\"\", of the Fenwick tree is increased, the increase in the execution\n",
    "time of the treesearch function slows down considerably which seems to confirm that\n",
    "the increase in time is logarithmic in scale.\"\n",
    "fig[:text](0,-0.09,txt,fontsize=12)\n",
    "title(\"Figure 3: Treesearch function computational cost\",fontsize=12,loc=\"left\");\n",
    "grid(\"on\")\n",
    "ax[:set_xlabel](L\"array length ($n$)\",fontsize=15)\n",
    "ax[:set_ylabel](L\"time ($s$)\", fontsize=15);\n",
    "x=linspace(1,N,N)\n",
    "x2=2.^x\n",
    "plot(x2,time_actual);"
   ]
  },
  {
   "cell_type": "code",
   "execution_count": null,
   "metadata": {
    "collapsed": false,
    "deletable": true,
    "editable": true
   },
   "outputs": [],
   "source": [
    "fig,ax=PyPlot.subplots(1,1)\n",
    "txt=L\"Figure 4. Comparing the search times of the two methods on a loglog plot for lists \n",
    "and trees of size $2^3$ to $2^{15}$, the linked list search times grow linearly whereas \n",
    "the Fenwick tree search times exhibit very slow growth in comparison. This shows \n",
    "perhaps that organizing interval data using Fenwick trees is the better method.\"\n",
    "fig[:text](0.05, -0.25,txt,fontsize=12)\n",
    "title(\"Figure 4: Linked list vs Tree search computational cost \",fontsize=12,loc=\"left\")\n",
    "grid(\"on\")\n",
    "ax[:set_xlabel](L\"array length ($n$)\",fontsize=15)\n",
    "ax[:set_ylabel](L\"time ($s$)\", fontsize=15)\n",
    "loglog(x2[3:15],time_actual[3:15],label=\"Fenwick Tree\",lw=2)\n",
    "loglog(x2[3:15],time_linear[3:15],label=\"Linked list\",lw=2)\n",
    "ylim(-0.0001,0.0016)\n",
    "legend(loc=2,fontsize=12);"
   ]
  },
  {
   "cell_type": "markdown",
   "metadata": {},
   "source": [
    "<font color=blue>\n",
    "This looks much better on log-log and allows an informative comparison to be made. Good answer.\n",
    "</font>"
   ]
  },
  {
   "cell_type": "markdown",
   "metadata": {},
   "source": [
    "<font color=blue>\n",
    "13/15\n",
    "</font>"
   ]
  },
  {
   "cell_type": "markdown",
   "metadata": {
    "deletable": true,
    "editable": true
   },
   "source": [
    "## Question 3: Gillespie algorithm for heterogeneous diffusion\n",
    "\n",
    "The following piece of code implements the Gillespie algorithm for N=100, L=10, $\\Delta x = 0.1$ and $D=1$, converts the particle positions to particle density and compares to the solution of the diffusion equation on an unbounded domain at t=1 (we assume that L=10 is far enough from zero to be considered unbounded):\n",
    "\n",
    "$$c(x, t) = \\frac{1}{\\sqrt{2 \\pi D t}}\\, \\exp [-\\frac{1}{2}\\frac{x^2}{D t} ]$$"
   ]
  },
  {
   "cell_type": "code",
   "execution_count": null,
   "metadata": {
    "collapsed": false,
    "deletable": true,
    "editable": true
   },
   "outputs": [],
   "source": [
    "# Original codes were moved into the functions normal and getdensity found in functions2.jl\n",
    "\n",
    "N=100\n",
    "D=1.0\n",
    "T=1.0\n",
    "P,X=getdensity(N)\n",
    "P1=normal(N,D,T);"
   ]
  },
  {
   "cell_type": "code",
   "execution_count": null,
   "metadata": {
    "collapsed": false,
    "deletable": true,
    "editable": true
   },
   "outputs": [],
   "source": [
    "fig,ax=PyPlot.subplots(1,1)\n",
    "txt=\"Figure 5. Comparison of the analytic solution of the diffusion equation against the\n",
    "numerical estimate of the particle density. All intervals have the same width in\n",
    "this simulation.\"\n",
    "fig[:text](0.05,-0.09,txt,fontsize=12)\n",
    "plot(X, P1, label=\"Analytic solution of diffusion equation\")\n",
    "plot(X, P, label=\"Numerical estimate of particle density\")\n",
    "legend(fontsize=8.5)\n",
    "title(\"Figure 5: Stochastic simulation of simple diffusion in 1-D\",loc=\"left\")\n",
    "ax[:set_ylabel](L\"Particle Density $c(x,t)$\", fontsize=12)\n",
    "ax[:set_xlabel](L\"$x$\", fontsize=12)\n",
    "ylim(-0.025,maximum(P)+0.05)\n",
    "grid(\"on\");"
   ]
  },
  {
   "cell_type": "markdown",
   "metadata": {
    "deletable": true,
    "editable": true
   },
   "source": [
    "**3.1)** The code above makes critical use of the fact that all intervals have the same width in order to decide which particle to move at each step. Suppose now that instead of being equal to $D$ for each particle, the diffusion coefficients are drawn from an exponential distribution with mean $D$:\n",
    "\n",
    "$$ P(x) = \\frac{1}{D} \\exp\\left(-\\frac{x}{D}\\right). $$\n",
    "\n",
    "Modify the code to account for this, using your code from Q2 above to solve the interval membership problem using linear search. You will need to use Julia's randexp() function to generate values for the diffusion coefficients. What is the largest value of $N$ you can simulate in a \"reasonable\" time?\n",
    "\n",
    "Interval membership is found by a linear search using the function: **listsearch()**.\n",
    "\n",
    "Particle density with exponentially distributed diffusion coefficients is obtained using the function: **getdensity_list()**."
   ]
  },
  {
   "cell_type": "code",
   "execution_count": null,
   "metadata": {
    "collapsed": false,
    "deletable": true,
    "editable": true
   },
   "outputs": [],
   "source": [
    "# See codes for getdensity_list and listsearch in functions2.jl\n",
    "\n",
    "P_list,X=getdensity_list(100)\n",
    "fig,ax=PyPlot.subplots(1,1)\n",
    "txt=\"Figure 6. The numerical solution utilized diffusion coefficients drawn from an \n",
    "exponential distribution and interval information stored in a linked list. The \n",
    "linear search function listsearch() was used to locate an interval and detemine \n",
    "which particle is moved. In contrast, the analytic solution uses intervals of \n",
    "equal width.\"\n",
    "fig[:text](0.05,-0.16,txt,fontsize=12)\n",
    "plot(X, P1, label=\"Analytic solution of diffusion equation\")\n",
    "plot(X, P_list, label=\"Numerical estimate of particle density\")\n",
    "legend(fontsize=8.5)\n",
    "title(\"Figure 6: Stochastic simulation of simple diffusion in 1-D with exponentially\\ndistributed diffusion coefficients and using a linear search\",loc=\"left\",fontsize=11)\n",
    "ax[:set_ylabel](L\"Particle Density $c(x,t)$\", fontsize=12)\n",
    "ax[:set_xlabel](L\"$x$\", fontsize=12)\n",
    "ylim(-0.025,maximum(P_list)+0.05)\n",
    "grid(\"on\");"
   ]
  },
  {
   "cell_type": "code",
   "execution_count": null,
   "metadata": {
    "collapsed": false,
    "deletable": true,
    "editable": true
   },
   "outputs": [],
   "source": [
    "m=1\n",
    "time_list=zeros(m)\n",
    "for i=1:m\n",
    "    n=2^i\n",
    "    t=@timed getdensity_list(n)\n",
    "    time_list[i]=t[2]\n",
    "end\n",
    ";"
   ]
  },
  {
   "cell_type": "code",
   "execution_count": null,
   "metadata": {
    "collapsed": false
   },
   "outputs": [],
   "source": [
    "time_list"
   ]
  },
  {
   "cell_type": "code",
   "execution_count": null,
   "metadata": {
    "collapsed": false,
    "deletable": true,
    "editable": true
   },
   "outputs": [],
   "source": [
    "fig,ax=PyPlot.subplots(1,1)\n",
    "txt=L\"Figure 7. The simulation time of simple diffusion using linked lists drastically\n",
    "increased as the number of particles increased. With $2^{11}$ particles, it required\n",
    "nearly 60 minutes to complete a simulation. With $2^{10}$ particles, it required 3.5\n",
    "minutes. Thus, it appears to keep the simulation time under a reasonable time, \n",
    "say 10 minutes, we can run simulations for up to 1,200 particles.\" \n",
    "fig[:text](0.05,-0.18,txt,fontsize=12)\n",
    "title(\"Figure 7: Simulation Times of Simple Diffusion in 1-D using Linked Lists\",loc=\"left\",fontsize=11)\n",
    "ax[:set_ylabel](L\"simulation time ($s$)\", fontsize=12)\n",
    "ax[:set_xlabel](L\"number of particles ($N$)\", fontsize=12)\n",
    "x=linspace(1,11,11)\n",
    "x2=(2.0).^x\n",
    "plot(x2,time_list,lw=2)\n",
    "ylim(-50,3500)\n",
    "grid(\"on\");"
   ]
  },
  {
   "cell_type": "markdown",
   "metadata": {},
   "source": [
    "<font color=blue>\n",
    "Something went wrong with this plot - not sure what. Doesn't matter since plotting the run time as a function of n is tangential to the main part of the question.\n",
    "</font>"
   ]
  },
  {
   "cell_type": "markdown",
   "metadata": {
    "deletable": true,
    "editable": true
   },
   "source": [
    "**3.2)** Try again using your Fenwick tree from Q2 to solve the interval membership problem and compare. What is the largest value of $N$ you can simulate now?\n",
    "\n",
    "Interval membership is found by the function: **treesearch()**.\n",
    "\n",
    "Particle density with exponentially distributed diffusion coefficients is obtained using the function: **getdensity_tree()**."
   ]
  },
  {
   "cell_type": "code",
   "execution_count": null,
   "metadata": {
    "collapsed": false,
    "deletable": true,
    "editable": true
   },
   "outputs": [],
   "source": [
    "P_tree,X=getdensity_tree(100)\n",
    "fig,ax=PyPlot.subplots(1,1)\n",
    "txt=\"Figure 8. The numerical solution utilized diffusion coefficients drawn from an \n",
    "exponential distribution and interval information stored in a Fenwick tree. \n",
    "The search function treesearch() was used to locate intervals and detemine \n",
    "which particle is moved. In contrast, the analytic solution uses intervals\n",
    "of equal width.\"\n",
    "fig[:text](0.05,-0.16,txt,fontsize=12)\n",
    "plot(X, P1, label=\"Analytic solution of diffusion equation\")\n",
    "plot(X, P_tree, label=\"Numerical estimate of particle density\")\n",
    "legend(fontsize=8.5)\n",
    "title(\"Figure 8: Stochastic simulation of simple diffusion in 1-D with exponentially\\ndistributed diffusion coefficients and using a tree search\",loc=\"left\",fontsize=11)\n",
    "ax[:set_ylabel](L\"Particle Density $c(x,t)$\", fontsize=12)\n",
    "ax[:set_xlabel](L\"$x$\", fontsize=12)\n",
    "ylim(-0.025,maximum(P_tree)+0.05)\n",
    "grid(\"on\");"
   ]
  },
  {
   "cell_type": "code",
   "execution_count": null,
   "metadata": {
    "collapsed": false,
    "deletable": true,
    "editable": true
   },
   "outputs": [],
   "source": [
    "m=11\n",
    "time_tree=zeros(m)\n",
    "for i=1:m\n",
    "    n=2^i\n",
    "    t=@timed getdensity_tree(n)\n",
    "    time_tree[i]=t[2]\n",
    "end"
   ]
  },
  {
   "cell_type": "code",
   "execution_count": null,
   "metadata": {
    "collapsed": true,
    "deletable": true,
    "editable": true
   },
   "outputs": [],
   "source": [
    "for i=12\n",
    "    n=2^i\n",
    "    t=@timed getdensity_tree(n)\n",
    "    time_tree=[time_tree;t[2]]\n",
    "end"
   ]
  },
  {
   "cell_type": "code",
   "execution_count": null,
   "metadata": {
    "collapsed": false,
    "deletable": true,
    "editable": true
   },
   "outputs": [],
   "source": [
    "time_tree"
   ]
  },
  {
   "cell_type": "code",
   "execution_count": null,
   "metadata": {
    "collapsed": false,
    "deletable": true,
    "editable": true
   },
   "outputs": [],
   "source": [
    "fig,ax=PyPlot.subplots(1,1)\n",
    "txt=L\"Figure 9. The simulation time of simple diffusion using Fenwick trees seems to \n",
    "drastically increase as the number of particles is increased. However, compared to \n",
    "using linked lists, the actual simulation time was much lower. Using Fenwick trees, \n",
    "a simulation of $2^{11}$ particles required only 38.62 s compared to 3457.78 s with \n",
    "using linked lists. Moreover, with $2^{12}$ particles, the simulation time was 434.22 s \n",
    "and still under 8 mins. Thus, it appears that we can run simulations up to about \n",
    "5000 particles and still be within a reasonable time of 10 mins.\" \n",
    "fig[:text](0.05,-0.25,txt,fontsize=12)\n",
    "title(\"Figure 9: Simulation Times of Simple Diffusion in 1-D using Fenwick Trees\",loc=\"left\",fontsize=11)\n",
    "ax[:set_ylabel](L\"simulation time ($s$)\", fontsize=12)\n",
    "ax[:set_xlabel](L\"number of particles ($N$)\", fontsize=12)\n",
    "x=linspace(1,12,12)\n",
    "x2=(2.0).^x\n",
    "plot(x2,time_tree,lw=2)\n",
    "ylim(-5,500)\n",
    "grid(\"on\");"
   ]
  },
  {
   "cell_type": "markdown",
   "metadata": {
    "deletable": true,
    "editable": true
   },
   "source": [
    "**3.3)** Show analytically that the solution of the heterogenous diffusion problem is\n",
    "\n",
    "$$ c(x,t) = \\frac{\\exp \\left(-\\sqrt{\\frac{2}{D\\,t}}\\, |x| \\right)}{\\sqrt{2\\, D\\, t}}$$\n",
    "\n",
    "You will probably need the integral formula (Formula 3.325 of Gradshteyn and Rizhik, 7th Ed.)\n",
    "\n",
    "$$ \\int_0^\\infty \\exp\\left(-a\\,x^2 - \\frac{b}{x^2} \\right)\\, dx =  \\frac{1}{2}\\,\\sqrt{\\frac{\\pi}{a}}\\,\\exp\\left(-2 \\sqrt{a\\,b} \\right).$$\n",
    "Use this formula to validate your numerical results."
   ]
  },
  {
   "cell_type": "markdown",
   "metadata": {
    "deletable": true,
    "editable": true
   },
   "source": [
    " \\begin{align}\n",
    "  & \\left\\langle c(x,t) \\right\\rangle =\\int_{0}^{\\infty }{dy}(\\frac{1}{D}{{e}^{\\frac{-y}{D}}})(\\frac{1}{\\sqrt{2\\pi yt}}{{e}^{-\\frac{1}{2}\\frac{{{x}^{2}}}{yt}}})=\\frac{1}{D\\sqrt{2\\pi t}}\\int_{0}^{\\infty }{dy}(\\frac{1}{\\sqrt{y}}{{e}^{-\\frac{y}{D}-\\frac{1}{2}\\frac{{{x}^{2}}}{yt}}}) \\\\ \n",
    " & \\text{let }u={{y}^{\\frac{1}{2}}}\\Rightarrow dy=2{{y}^{\\frac{1}{2}}}du \\\\ \n",
    " & \\Rightarrow \\left\\langle c(x,t) \\right\\rangle =\\frac{2}{D\\sqrt{2\\pi t}}\\int_{0}^{\\infty }{du}\\text{ }{{e}^{-\\frac{{{u}^{2}}}{D}-\\frac{1}{2}\\frac{{{x}^{2}}}{t{{u}^{2}}}}}) \\\\ \n",
    " & =\\frac{1}{\\sqrt{2Dt}}{{e}^{-\\sqrt{\\frac{2{{x}^{2}}}{Dt}}}}\\text{ by formula 3}\\text{.325 of Gradshteyn and Rizhik} \\\\ \n",
    " & \\Rightarrow c(x,t)=\\frac{1}{\\sqrt{2Dt}}{{e}^{-\\sqrt{\\frac{2}{Dt}}\\left| x \\right|}} \\\\ \n",
    "\\end{align}"
   ]
  },
  {
   "cell_type": "code",
   "execution_count": null,
   "metadata": {
    "collapsed": false
   },
   "outputs": [],
   "source": [
    "P,X=getdensity_tree(10000) # Obtain numerical density using Fenwick trees\n",
    "Analytic=analyticdensity(X,1.0,1.0) # Obtain density from the analytic solution found above;"
   ]
  },
  {
   "cell_type": "code",
   "execution_count": null,
   "metadata": {
    "collapsed": false
   },
   "outputs": [],
   "source": [
    "fig,ax=PyPlot.subplots(1,1)\n",
    "txt=\"Figure 10. The numerical estimate of particle density obtained from a simulation\n",
    "utilizing Fenwick trees appears to be consistent with the analytic solution as the \n",
    "plot of the simulation lies on top of the plot of the analytic solution.\" \n",
    "fig[:text](0.05,-0.10,txt,fontsize=12)\n",
    "plot(X,Analytic,label=\"Analytic solution of diffusion equation\",linewidth=2)\n",
    "plot(X,P,label=\"Numerical estimate of particle density\",lw=2)\n",
    "legend(fontsize=8.5)\n",
    "title(\"Figure 10: Stochastic simulation of simple diffusion in 1-D\",loc=\"left\")\n",
    "ax[:set_ylabel](L\"Particle Density $c(x,t)$\", fontsize=15)\n",
    "ax[:set_xlabel](L\"$x$\", fontsize=15)\n",
    "ylim(-0.025,maximum(P)+0.05)\n",
    "grid(\"on\");"
   ]
  },
  {
   "cell_type": "markdown",
   "metadata": {
    "collapsed": true,
    "deletable": true,
    "editable": true
   },
   "source": [
    "<font color=blue>\n",
    "The results look mostly correct but there is something wrong with your code that I haven't been able to figure out. The tree search version is still very slow and I haven't been able to make it do more than about 1000 particles. A correct implementation can do 100000's of particles in a minute or so. I guess this is the reason why your original submission was only showing results for 100 particles. It would be worth trying to figure out what the problem is but I haven't been able to get to the bottom of it...\n",
    "</font>"
   ]
  },
  {
   "cell_type": "markdown",
   "metadata": {},
   "source": [
    "<font color=blue>\n",
    "12/15\n",
    "</font>"
   ]
  },
  {
   "cell_type": "code",
   "execution_count": null,
   "metadata": {
    "collapsed": true
   },
   "outputs": [],
   "source": []
  }
 ],
 "metadata": {
  "kernelspec": {
   "display_name": "Julia 0.6.0",
   "language": "julia",
   "name": "julia-0.6"
  },
  "language_info": {
   "file_extension": ".jl",
   "mimetype": "application/julia",
   "name": "julia",
   "version": "0.6.0"
  }
 },
 "nbformat": 4,
 "nbformat_minor": 0
}
